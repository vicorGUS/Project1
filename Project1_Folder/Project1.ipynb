{
 "cells": [
  {
   "cell_type": "code",
   "execution_count": 1,
   "id": "40a6fff0",
   "metadata": {},
   "outputs": [],
   "source": [
    "import numpy as np\n",
    "import emcee\n",
    "from scipy.optimize import minimize, least_squares, leastsq\n",
    "from scipy.stats import norm\n",
    "import matplotlib.pyplot as plt\n",
    "import corner"
   ]
  },
  {
   "cell_type": "code",
   "execution_count": 2,
   "id": "80b74166",
   "metadata": {},
   "outputs": [],
   "source": [
    "data = np.genfromtxt('D1_c_5.dat')\n",
    "m=data.shape[0]\n",
    "x=np.zeros(m)\n",
    "y=np.zeros(m)\n",
    "sigma=np.zeros(m)\n",
    "for i in range(data.shape[0]):\n",
    "    x[i]=data[i][0]\n",
    "    y[i]=data[i][1]\n",
    "    sigma[i] = data[i][2]"
   ]
  },
  {
   "cell_type": "code",
   "execution_count": 208,
   "id": "863b3a3d",
   "metadata": {},
   "outputs": [],
   "source": [
    "def log_prior_uni(a):\n",
    "    if -100 < a.all() < 100:\n",
    "        return 0.0\n",
    "    return -np.inf\n",
    "    \n",
    "def log_prior_gauss(a, k, abar=5):\n",
    "    gauss = ((1 / (np.sqrt(2 * np.pi)*abar)) ** (k+1)) * np.exp(- a**2 / (2 * abar**2))\n",
    "    return np.sum(np.log(gauss))\n",
    "\n",
    "def g(a, x, k):\n",
    "    for i in range(k+1):\n",
    "        g = np.zeros([len(a), k+1])\n",
    "        for j in range(len(a)):\n",
    "            g[j] += a[j,i] * x**i\n",
    "    return g\n",
    "\n",
    "def chi_squared(a, x, y, sigma):\n",
    "    return np.sum(((y - g(a, x, k)) / sigma) ** 2)\n",
    "\n",
    "def log_likelihood(a, x, y, sigma):\n",
    "    return np.sum(np.log(1 / ( np.sqrt(2 * np.pi) * sigma))) - chi_squared(a, x, y, sigma) / 2\n",
    "    \n",
    "def log_posterior_uni(a, x, y, sigma):\n",
    "    lp_uni = log_prior_uni(a)\n",
    "    if not np.isfinite(lp_uni):\n",
    "        return -np.inf\n",
    "    return lp_uni + log_likelihood(a, x, y, sigma)\n",
    "\n",
    "def log_posterior_gauss(a, x, y, sigma):\n",
    "    lp_gauss = log_prior_gauss(a, k)\n",
    "    if not np.isfinite(lp_gauss):\n",
    "        return -np.inf\n",
    "    return lp_gauss + log_likelihood(a, x, y, sigma)"
   ]
  },
  {
   "cell_type": "code",
   "execution_count": 13,
   "id": "b4b35c65",
   "metadata": {},
   "outputs": [],
   "source": [
    "k = 4     # Order of Taylor_Polynomial, 3 for Corner plots, 4 for correct Fig 3&4\n",
    "\n",
    "# For Extra task, set k to kmax and exctract terms \"a_i\" up to order k\n",
    "\n",
    "fun = lambda *args: -log_likelihood(*args)\n",
    "initial = np.zeros(k+1) + 0.1 * np.random.randn(k+1)\n",
    "sol = minimize(fun, initial, args=(x, y, sigma))"
   ]
  },
  {
   "cell_type": "code",
   "execution_count": 140,
   "id": "a9a77d09",
   "metadata": {},
   "outputs": [
    {
     "name": "stderr",
     "output_type": "stream",
     "text": [
      "100%|███████████████████████████████████████████████████████████| 5000/5000 [00:15<00:00, 325.38it/s]\n"
     ]
    }
   ],
   "source": [
    "starting_guesses = [sol.x] + 1e-4 * np.random.randn(50, k+1)\n",
    "\n",
    "nwalkers, ndim = starting_guesses.shape\n",
    "\n",
    "sampler_uni = emcee.EnsembleSampler(nwalkers, ndim, log_posterior_uni, args=(x, y, sigma))\n",
    "\n",
    "sampler_uni.run_mcmc(starting_guesses, 5000, progress=True);"
   ]
  },
  {
   "cell_type": "code",
   "execution_count": 85,
   "id": "8d29a00e",
   "metadata": {},
   "outputs": [
    {
     "name": "stderr",
     "output_type": "stream",
     "text": [
      "100%|███████████████████████████████████████████████████████████| 5000/5000 [00:17<00:00, 279.91it/s]\n"
     ]
    }
   ],
   "source": [
    "starting_guesses = np.ones(k+1) + 1e-4 * np.random.randn(50, k+1)\n",
    "\n",
    "nwalkers, ndim = starting_guesses.shape\n",
    "\n",
    "sampler_gauss = emcee.EnsembleSampler(nwalkers, ndim, log_posterior_gauss, args=(x, y, sigma))\n",
    "\n",
    "sampler_gauss.run_mcmc(starting_guesses, 5000, progress=True);"
   ]
  },
  {
   "cell_type": "code",
   "execution_count": 141,
   "id": "2cd28839",
   "metadata": {},
   "outputs": [],
   "source": [
    "flat_samples_uni = sampler_uni.get_chain(discard=1000, thin=15, flat=True)\n",
    "\n",
    "labels = [r\"$a_0$\", r\"$a_1$\", r\"$a_2$\", r\"$a_3$\"]\n",
    "if k==3:\n",
    "    fig = corner.corner(flat_samples_uni, labels=labels, titles=labels, show_titles=True);"
   ]
  },
  {
   "cell_type": "code",
   "execution_count": 83,
   "id": "cf5d6a91",
   "metadata": {},
   "outputs": [],
   "source": [
    "flat_samples_gauss = sampler_gauss.get_chain(discard=1000, thin=15, flat=True)\n",
    "\n",
    "labels = [r\"$a_0$\", r\"$a_1$\", r\"$a_2$\", r\"$a_3$\"]\n",
    "if k==3:    \n",
    "    fig = corner.corner(flat_samples_gauss, labels=labels, titles=labels, show_titles=True);"
   ]
  },
  {
   "cell_type": "code",
   "execution_count": 147,
   "id": "1ce339c4",
   "metadata": {},
   "outputs": [
    {
     "data": {
      "image/png": "[encoded data removed]",
      "text/plain": [
       "<Figure size 576x576 with 1 Axes>"
      ]
     },
     "metadata": {
      "needs_background": "light"
     },
     "output_type": "display_data"
    }
   ],
   "source": [
    "fig = plt.figure(figsize=(8, 8))\n",
    "plt.errorbar(x, y, (sigma), fmt=\"o\", label=\"Data\", ecolor=\"black\", capsize=3.0, mfc='aqua')\n",
    "plt.xlim(0.0, 0.4)\n",
    "plt.xticks(np.linspace(0.0, 0.4, 5))\n",
    "plt.xlabel(r\"$x$\")\n",
    "plt.ylim(0.0, 1.7)\n",
    "plt.yticks(np.linspace(0.0, 1.6, 5))\n",
    "plt.ylabel(r\"$g(x)$\")\n",
    "x_range = np.linspace(0.0, 0.4, 100)\n",
    "func = ((1 / 2) + np.tan(np.pi/2 * x_range))**2\n",
    "plt.plot(x_range, func, label=r\"True function\", color=\"b\", lw=2.5)\n",
    "a = sol.x\n",
    "apprx = g(a, x_range, k)\n",
    "plt.fill_between(x_range, apprx - abs(func-apprx), apprx + abs(apprx-func), alpha=0.5)\n",
    "plt.plot(x_range, apprx, 'r--', label=f\"$k={k}, k_\"r\"{max}=\"f\"{k}$\", lw=2.5)\n",
    "plt.legend(loc='upper left');"
   ]
  },
  {
   "cell_type": "code",
   "execution_count": 136,
   "id": "a99663c6",
   "metadata": {},
   "outputs": [
    {
     "name": "stdout",
     "output_type": "stream",
     "text": [
      "[[ 0.24787607]\n",
      " [ 1.63170015]\n",
      " [ 3.04251634]\n",
      " [ 0.33051737]\n",
      " [-0.10437358]]\n",
      "[[ 0.22400601  0.27148237]\n",
      " [ 1.16920926  2.09747886]\n",
      " [ 0.68380875  5.354077  ]\n",
      " [-3.97778272  4.54357187]\n",
      " [-4.97738615  4.75794494]]\n",
      "(13300, 5)\n"
     ]
    },
    {
     "data": {
      "image/png": "[encoded data removed]",
      "text/plain": [
       "<Figure size 576x576 with 1 Axes>"
      ]
     },
     "metadata": {
      "needs_background": "light"
     },
     "output_type": "display_data"
    }
   ],
   "source": [
    "fig = plt.figure(figsize=(8, 8))\n",
    "plt.errorbar(x, y, (sigma), fmt=\"o\", label=\"Data\", ecolor=\"black\", capsize=3.0, mfc='aqua')\n",
    "plt.xlim(0.0, 0.4)\n",
    "plt.xticks(np.linspace(0.0, 0.4, 5))\n",
    "plt.xlabel(r\"$x$\")\n",
    "plt.ylim(0.0, 1.7)\n",
    "plt.yticks(np.linspace(0.0, 1.6, 5))\n",
    "plt.ylabel(r\"$g(x)$\")\n",
    "x_range = np.linspace(0.0, 0.4, 100)\n",
    "func = ((1 / 2) + np.tan(np.pi/2 * x_range))**2\n",
    "plt.plot(x_range, func, label=r\"True function\", color=\"b\", lw=2.5)\n",
    "a = np.zeros([k+1, 1])\n",
    "var = np.zeros([k+1, 2])\n",
    "for i in range(flat_samples_gauss.shape[1]):\n",
    "    a[i] = flat_samples_gauss[:,i].mean()\n",
    "    var[i] =  np.percentile(flat_samples_gauss[:,i], [16, 84])\n",
    "print(a)\n",
    "print(var)\n",
    "print(flat_samples_gauss.shape)\n",
    "apprx = g(a, x_range, k)\n",
    "apprx_min = g(var[:,0], x_range, k)\n",
    "apprx_max = g(var[:,1], x_range, k)\n",
    "#plt.fill_between(x_range, apprx -abs(func-apprx), apprx+ abs(apprx-func), alpha=0.5)\n",
    "plt.fill_between(x_range, apprx_min, apprx_max, alpha=0.5)\n",
    "plt.plot(x_range, apprx, 'r--', label=f\"$k={k}, k_\"r\"{max}=\"f\"{k}$\", lw=2.5)\n",
    "plt.legend(loc='upper left');\n",
    "plt.show()"
   ]
  },
  {
   "cell_type": "code",
   "execution_count": 154,
   "id": "8d9567fc",
   "metadata": {},
   "outputs": [
    {
     "name": "stdout",
     "output_type": "stream",
     "text": [
      "kmax = 0\n",
      "a0: 0.47 +- [0.01]\n",
      "Chi/dof: 66.6\n",
      "------------------------------------------------\n",
      "kmax = 1\n",
      "a0: 0.2 +- [0.01 0.11]\n",
      "a1: 2.55 +- [ 0.1  -1.07]\n",
      "Chi/dof: 2.3\n",
      "------------------------------------------------\n",
      "kmax = 2\n",
      "a0: 0.25 +- [0.02 0.15 0.15]\n",
      "a1: 1.59 +- [ 0.39 -0.28  0.52]\n",
      "a2: 3.31 +- [ 1.28  0.61 -0.25]\n",
      "Chi/dof: 1.6\n",
      "------------------------------------------------\n",
      "kmax = 3\n",
      "a0: 0.27 +- [0.04 0.17 0.17 0.17]\n",
      "a1: 0.92 +- [1.08 0.75 1.21 1.21]\n",
      "a2: 8.39 +- [7.87 7.54 3.81 8.  ]\n",
      "Chi/dof: 1.9\n",
      "------------------------------------------------\n",
      "kmax = 4\n",
      "a0: 0.32 +- [0.07 0.23 0.23 0.23 0.23]\n",
      "a1: -1.55 +- [2.87 3.8  3.03 3.03 3.03]\n",
      "a2: 40.73 +- [34.47 35.4  14.26 34.63 34.63]\n",
      "Chi/dof: 2.0\n",
      "------------------------------------------------\n",
      "kmax = 5\n",
      "a0: 0.51 +- [0.17 0.42 0.42 0.42 0.42 0.42]\n",
      "a1: -12.03 +- [ 9.17 15.44  9.42  9.42  9.42  9.42]\n",
      "a2: 229.07 +- [159.35 165.62  45.07 159.61 159.61 159.61]\n",
      "Chi/dof: 1.4\n",
      "------------------------------------------------\n",
      "kmax = 6\n",
      "a0: 0.52 +- [0.27 0.53 0.53 0.53 0.53 0.53 0.53]\n",
      "a1: -12.77 +- [15.76 22.4  16.02 16.02 16.02 16.02 16.02]\n",
      "a2: 247.97 +- [305.89 312.54 182.17 306.15 306.15 306.15 306.15]\n",
      "Chi/dof: 1.9\n",
      "------------------------------------------------\n"
     ]
    }
   ],
   "source": [
    "for k in range(0,7):\n",
    "    starting_guesses = np.ones(k+1) + 1e-4 * np.random.randn(50, k+1)\n",
    "    nwalkers, ndim = starting_guesses.shape\n",
    "    sampler_uni = emcee.EnsembleSampler(nwalkers, ndim, log_posterior_uni, args=(x, y, sigma))\n",
    "    sampler_uni.run_mcmc(starting_guesses, 1000)\n",
    "    flat_samples_uni = sampler_uni.get_chain(discard=100, thin=15, flat=True)\n",
    "    print(f\"kmax = {k}\")\n",
    "    a = np.zeros([k+1])\n",
    "    for i in range(k+1):\n",
    "        a[i] = np.round(flat_samples_uni[:,i].mean(), 2)\n",
    "        var = np.round(((np.percentile(flat_samples_uni[:,i], [84])[0]  - a) + (a - np.percentile(flat_samples_uni[:,i], [16]))[0]) / 2, 2)\n",
    "        if i <=2:\n",
    "            print(f\"a{i}:\",a[i], \"+-\", var)\n",
    "    chi_dof = chi_squared(a, x, y, sigma) / (m - k - 1)\n",
    "    print(\"Chi/dof:\", np.round(chi_dof, 1))\n",
    "    print('------------------------------------------------')"
   ]
  },
  {
   "cell_type": "code",
   "execution_count": 12,
   "id": "23b7698b",
   "metadata": {},
   "outputs": [
    {
     "name": "stdout",
     "output_type": "stream",
     "text": [
      "kmax = 0\n",
      "a0: 0.48 +- 0.0\n",
      "------------------------------------------------\n",
      "kmax = 1\n",
      "a0: 0.2 +- 0.02\n",
      "a1: 2.55 +- 0.1\n",
      "------------------------------------------------\n",
      "kmax = 2\n",
      "a0: 0.25 +- 0.02\n",
      "a1: 1.63 +- 0.38\n",
      "a2: 3.14 +- 1.22\n",
      "------------------------------------------------\n",
      "kmax = 3\n",
      "a0: 0.25 +- 0.02\n",
      "a1: 1.64 +- 0.45\n",
      "a2: 2.92 +- 2.29\n",
      "------------------------------------------------\n",
      "kmax = 4\n",
      "a0: 0.25 +- 0.02\n",
      "a1: 1.64 +- 0.45\n",
      "a2: 2.97 +- 2.38\n",
      "------------------------------------------------\n",
      "kmax = 5\n",
      "a0: 0.25 +- 0.02\n",
      "a1: 1.66 +- 0.46\n",
      "a2: 2.85 +- 2.36\n",
      "------------------------------------------------\n",
      "kmax = 6\n",
      "a0: 0.25 +- 0.02\n",
      "a1: 1.62 +- 0.45\n",
      "a2: 3.19 +- 2.3\n",
      "------------------------------------------------\n"
     ]
    }
   ],
   "source": [
    "for k in range(0,7):\n",
    "    starting_guesses = np.ones(k+1) + 1e-4 * np.random.randn(50, k+1)\n",
    "    nwalkers, ndim = starting_guesses.shape\n",
    "    sampler_gauss = emcee.EnsembleSampler(nwalkers, ndim, log_posterior_gauss, args=(x, y, sigma))\n",
    "    sampler_gauss.run_mcmc(starting_guesses, 1000)\n",
    "    flat_samples_gauss = sampler_gauss.get_chain(discard=100, thin=15, flat=True)\n",
    "    print(f\"kmax = {k}\")\n",
    "    for i in range(k+1):\n",
    "        a = np.round(flat_samples_gauss[:,i].mean(), 2)\n",
    "        var = np.round(np.percentile(flat_samples_gauss[:,i], [84])  - a, 2)[0]\n",
    "        if i <=2:\n",
    "            print(f\"a{i}:\",a, \"+-\", var)\n",
    "    print('------------------------------------------------')"
   ]
  },
  {
   "cell_type": "code",
   "execution_count": 209,
   "id": "7f3ca9e9",
   "metadata": {},
   "outputs": [
    {
     "ename": "ValueError",
     "evalue": "non-broadcastable output operand with shape (1,) doesn't match the broadcast shape (10,)",
     "output_type": "error",
     "traceback": [
      "\u001b[0;31m---------------------------------------------------------------------------\u001b[0m",
      "\u001b[0;31mValueError\u001b[0m                                Traceback (most recent call last)",
      "\u001b[0;32m/var/folders/4d/62y40bvj02n10swnwvnfhr840000gn/T/ipykernel_75917/4167332403.py\u001b[0m in \u001b[0;36m<module>\u001b[0;34m\u001b[0m\n\u001b[1;32m      3\u001b[0m     \u001b[0;32mfor\u001b[0m \u001b[0mi\u001b[0m \u001b[0;32min\u001b[0m \u001b[0mrange\u001b[0m\u001b[0;34m(\u001b[0m\u001b[0;36m0\u001b[0m\u001b[0;34m,\u001b[0m\u001b[0mk\u001b[0m\u001b[0;34m+\u001b[0m\u001b[0;36m1\u001b[0m\u001b[0;34m)\u001b[0m\u001b[0;34m:\u001b[0m\u001b[0;34m\u001b[0m\u001b[0;34m\u001b[0m\u001b[0m\n\u001b[1;32m      4\u001b[0m         \u001b[0ma\u001b[0m\u001b[0;34m[\u001b[0m\u001b[0;34m:\u001b[0m\u001b[0;34m,\u001b[0m\u001b[0mi\u001b[0m\u001b[0;34m]\u001b[0m \u001b[0;34m=\u001b[0m \u001b[0mnp\u001b[0m\u001b[0;34m.\u001b[0m\u001b[0mlinspace\u001b[0m\u001b[0;34m(\u001b[0m\u001b[0;34m-\u001b[0m\u001b[0;36m100\u001b[0m\u001b[0;34m,\u001b[0m\u001b[0;36m100\u001b[0m\u001b[0;34m,\u001b[0m\u001b[0;36m1000\u001b[0m\u001b[0;34m)\u001b[0m\u001b[0;34m\u001b[0m\u001b[0;34m\u001b[0m\u001b[0m\n\u001b[0;32m----> 5\u001b[0;31m     \u001b[0mevidence\u001b[0m \u001b[0;34m=\u001b[0m \u001b[0mlog_posterior_gauss\u001b[0m\u001b[0;34m(\u001b[0m\u001b[0ma\u001b[0m\u001b[0;34m,\u001b[0m \u001b[0mx\u001b[0m\u001b[0;34m,\u001b[0m \u001b[0my\u001b[0m\u001b[0;34m,\u001b[0m \u001b[0msigma\u001b[0m\u001b[0;34m)\u001b[0m\u001b[0;34m\u001b[0m\u001b[0;34m\u001b[0m\u001b[0m\n\u001b[0m\u001b[1;32m      6\u001b[0m     \u001b[0mprint\u001b[0m\u001b[0;34m(\u001b[0m\u001b[0mnp\u001b[0m\u001b[0;34m.\u001b[0m\u001b[0mexp\u001b[0m\u001b[0;34m(\u001b[0m\u001b[0mevidence\u001b[0m\u001b[0;34m)\u001b[0m\u001b[0;34m)\u001b[0m\u001b[0;34m\u001b[0m\u001b[0;34m\u001b[0m\u001b[0m\n\u001b[1;32m      7\u001b[0m \u001b[0;34m\u001b[0m\u001b[0m\n",
      "\u001b[0;32m/var/folders/4d/62y40bvj02n10swnwvnfhr840000gn/T/ipykernel_75917/3716401295.py\u001b[0m in \u001b[0;36mlog_posterior_gauss\u001b[0;34m(a, x, y, sigma)\u001b[0m\n\u001b[1;32m     31\u001b[0m     \u001b[0;32mif\u001b[0m \u001b[0;32mnot\u001b[0m \u001b[0mnp\u001b[0m\u001b[0;34m.\u001b[0m\u001b[0misfinite\u001b[0m\u001b[0;34m(\u001b[0m\u001b[0mlp_gauss\u001b[0m\u001b[0;34m)\u001b[0m\u001b[0;34m:\u001b[0m\u001b[0;34m\u001b[0m\u001b[0;34m\u001b[0m\u001b[0m\n\u001b[1;32m     32\u001b[0m         \u001b[0;32mreturn\u001b[0m \u001b[0;34m-\u001b[0m\u001b[0mnp\u001b[0m\u001b[0;34m.\u001b[0m\u001b[0minf\u001b[0m\u001b[0;34m\u001b[0m\u001b[0;34m\u001b[0m\u001b[0m\n\u001b[0;32m---> 33\u001b[0;31m     \u001b[0;32mreturn\u001b[0m \u001b[0mlp_gauss\u001b[0m \u001b[0;34m+\u001b[0m \u001b[0mlog_likelihood\u001b[0m\u001b[0;34m(\u001b[0m\u001b[0ma\u001b[0m\u001b[0;34m,\u001b[0m \u001b[0mx\u001b[0m\u001b[0;34m,\u001b[0m \u001b[0my\u001b[0m\u001b[0;34m,\u001b[0m \u001b[0msigma\u001b[0m\u001b[0;34m)\u001b[0m\u001b[0;34m\u001b[0m\u001b[0;34m\u001b[0m\u001b[0m\n\u001b[0m",
      "\u001b[0;32m/var/folders/4d/62y40bvj02n10swnwvnfhr840000gn/T/ipykernel_75917/3716401295.py\u001b[0m in \u001b[0;36mlog_likelihood\u001b[0;34m(a, x, y, sigma)\u001b[0m\n\u001b[1;32m     19\u001b[0m \u001b[0;34m\u001b[0m\u001b[0m\n\u001b[1;32m     20\u001b[0m \u001b[0;32mdef\u001b[0m \u001b[0mlog_likelihood\u001b[0m\u001b[0;34m(\u001b[0m\u001b[0ma\u001b[0m\u001b[0;34m,\u001b[0m \u001b[0mx\u001b[0m\u001b[0;34m,\u001b[0m \u001b[0my\u001b[0m\u001b[0;34m,\u001b[0m \u001b[0msigma\u001b[0m\u001b[0;34m)\u001b[0m\u001b[0;34m:\u001b[0m\u001b[0;34m\u001b[0m\u001b[0;34m\u001b[0m\u001b[0m\n\u001b[0;32m---> 21\u001b[0;31m     \u001b[0;32mreturn\u001b[0m \u001b[0mnp\u001b[0m\u001b[0;34m.\u001b[0m\u001b[0msum\u001b[0m\u001b[0;34m(\u001b[0m\u001b[0mnp\u001b[0m\u001b[0;34m.\u001b[0m\u001b[0mlog\u001b[0m\u001b[0;34m(\u001b[0m\u001b[0;36m1\u001b[0m \u001b[0;34m/\u001b[0m \u001b[0;34m(\u001b[0m \u001b[0mnp\u001b[0m\u001b[0;34m.\u001b[0m\u001b[0msqrt\u001b[0m\u001b[0;34m(\u001b[0m\u001b[0;36m2\u001b[0m \u001b[0;34m*\u001b[0m \u001b[0mnp\u001b[0m\u001b[0;34m.\u001b[0m\u001b[0mpi\u001b[0m\u001b[0;34m)\u001b[0m \u001b[0;34m*\u001b[0m \u001b[0msigma\u001b[0m\u001b[0;34m)\u001b[0m\u001b[0;34m)\u001b[0m\u001b[0;34m)\u001b[0m \u001b[0;34m-\u001b[0m \u001b[0mchi_squared\u001b[0m\u001b[0;34m(\u001b[0m\u001b[0ma\u001b[0m\u001b[0;34m,\u001b[0m \u001b[0mx\u001b[0m\u001b[0;34m,\u001b[0m \u001b[0my\u001b[0m\u001b[0;34m,\u001b[0m \u001b[0msigma\u001b[0m\u001b[0;34m)\u001b[0m \u001b[0;34m/\u001b[0m \u001b[0;36m2\u001b[0m\u001b[0;34m\u001b[0m\u001b[0;34m\u001b[0m\u001b[0m\n\u001b[0m\u001b[1;32m     22\u001b[0m \u001b[0;34m\u001b[0m\u001b[0m\n\u001b[1;32m     23\u001b[0m \u001b[0;32mdef\u001b[0m \u001b[0mlog_posterior_uni\u001b[0m\u001b[0;34m(\u001b[0m\u001b[0ma\u001b[0m\u001b[0;34m,\u001b[0m \u001b[0mx\u001b[0m\u001b[0;34m,\u001b[0m \u001b[0my\u001b[0m\u001b[0;34m,\u001b[0m \u001b[0msigma\u001b[0m\u001b[0;34m)\u001b[0m\u001b[0;34m:\u001b[0m\u001b[0;34m\u001b[0m\u001b[0;34m\u001b[0m\u001b[0m\n",
      "\u001b[0;32m/var/folders/4d/62y40bvj02n10swnwvnfhr840000gn/T/ipykernel_75917/3716401295.py\u001b[0m in \u001b[0;36mchi_squared\u001b[0;34m(a, x, y, sigma)\u001b[0m\n\u001b[1;32m     16\u001b[0m \u001b[0;34m\u001b[0m\u001b[0m\n\u001b[1;32m     17\u001b[0m \u001b[0;32mdef\u001b[0m \u001b[0mchi_squared\u001b[0m\u001b[0;34m(\u001b[0m\u001b[0ma\u001b[0m\u001b[0;34m,\u001b[0m \u001b[0mx\u001b[0m\u001b[0;34m,\u001b[0m \u001b[0my\u001b[0m\u001b[0;34m,\u001b[0m \u001b[0msigma\u001b[0m\u001b[0;34m)\u001b[0m\u001b[0;34m:\u001b[0m\u001b[0;34m\u001b[0m\u001b[0;34m\u001b[0m\u001b[0m\n\u001b[0;32m---> 18\u001b[0;31m     \u001b[0;32mreturn\u001b[0m \u001b[0mnp\u001b[0m\u001b[0;34m.\u001b[0m\u001b[0msum\u001b[0m\u001b[0;34m(\u001b[0m\u001b[0;34m(\u001b[0m\u001b[0;34m(\u001b[0m\u001b[0my\u001b[0m \u001b[0;34m-\u001b[0m \u001b[0mg\u001b[0m\u001b[0;34m(\u001b[0m\u001b[0ma\u001b[0m\u001b[0;34m,\u001b[0m \u001b[0mx\u001b[0m\u001b[0;34m,\u001b[0m \u001b[0mk\u001b[0m\u001b[0;34m)\u001b[0m\u001b[0;34m)\u001b[0m \u001b[0;34m/\u001b[0m \u001b[0msigma\u001b[0m\u001b[0;34m)\u001b[0m \u001b[0;34m**\u001b[0m \u001b[0;36m2\u001b[0m\u001b[0;34m)\u001b[0m\u001b[0;34m\u001b[0m\u001b[0;34m\u001b[0m\u001b[0m\n\u001b[0m\u001b[1;32m     19\u001b[0m \u001b[0;34m\u001b[0m\u001b[0m\n\u001b[1;32m     20\u001b[0m \u001b[0;32mdef\u001b[0m \u001b[0mlog_likelihood\u001b[0m\u001b[0;34m(\u001b[0m\u001b[0ma\u001b[0m\u001b[0;34m,\u001b[0m \u001b[0mx\u001b[0m\u001b[0;34m,\u001b[0m \u001b[0my\u001b[0m\u001b[0;34m,\u001b[0m \u001b[0msigma\u001b[0m\u001b[0;34m)\u001b[0m\u001b[0;34m:\u001b[0m\u001b[0;34m\u001b[0m\u001b[0;34m\u001b[0m\u001b[0m\n",
      "\u001b[0;32m/var/folders/4d/62y40bvj02n10swnwvnfhr840000gn/T/ipykernel_75917/3716401295.py\u001b[0m in \u001b[0;36mg\u001b[0;34m(a, x, k)\u001b[0m\n\u001b[1;32m     12\u001b[0m         \u001b[0mg\u001b[0m \u001b[0;34m=\u001b[0m \u001b[0mnp\u001b[0m\u001b[0;34m.\u001b[0m\u001b[0mzeros\u001b[0m\u001b[0;34m(\u001b[0m\u001b[0;34m[\u001b[0m\u001b[0mlen\u001b[0m\u001b[0;34m(\u001b[0m\u001b[0ma\u001b[0m\u001b[0;34m)\u001b[0m\u001b[0;34m,\u001b[0m \u001b[0mk\u001b[0m\u001b[0;34m+\u001b[0m\u001b[0;36m1\u001b[0m\u001b[0;34m]\u001b[0m\u001b[0;34m)\u001b[0m\u001b[0;34m\u001b[0m\u001b[0;34m\u001b[0m\u001b[0m\n\u001b[1;32m     13\u001b[0m         \u001b[0;32mfor\u001b[0m \u001b[0mj\u001b[0m \u001b[0;32min\u001b[0m \u001b[0mrange\u001b[0m\u001b[0;34m(\u001b[0m\u001b[0mlen\u001b[0m\u001b[0;34m(\u001b[0m\u001b[0ma\u001b[0m\u001b[0;34m)\u001b[0m\u001b[0;34m)\u001b[0m\u001b[0;34m:\u001b[0m\u001b[0;34m\u001b[0m\u001b[0;34m\u001b[0m\u001b[0m\n\u001b[0;32m---> 14\u001b[0;31m             \u001b[0mg\u001b[0m\u001b[0;34m[\u001b[0m\u001b[0mj\u001b[0m\u001b[0;34m]\u001b[0m \u001b[0;34m+=\u001b[0m \u001b[0ma\u001b[0m\u001b[0;34m[\u001b[0m\u001b[0mj\u001b[0m\u001b[0;34m,\u001b[0m\u001b[0mi\u001b[0m\u001b[0;34m]\u001b[0m \u001b[0;34m*\u001b[0m \u001b[0mx\u001b[0m\u001b[0;34m**\u001b[0m\u001b[0mi\u001b[0m\u001b[0;34m\u001b[0m\u001b[0;34m\u001b[0m\u001b[0m\n\u001b[0m\u001b[1;32m     15\u001b[0m     \u001b[0;32mreturn\u001b[0m \u001b[0mg\u001b[0m\u001b[0;34m\u001b[0m\u001b[0;34m\u001b[0m\u001b[0m\n\u001b[1;32m     16\u001b[0m \u001b[0;34m\u001b[0m\u001b[0m\n",
      "\u001b[0;31mValueError\u001b[0m: non-broadcastable output operand with shape (1,) doesn't match the broadcast shape (10,)"
     ]
    }
   ],
   "source": [
    "for k in range(0,7):\n",
    "    a = np.zeros([1000,k+1])\n",
    "    for i in range(0,k+1):\n",
    "        a[:,i] = np.linspace(-100,100,1000)\n",
    "    evidence = log_posterior_gauss(a, x, y, sigma)\n",
    "    print(np.exp(evidence))\n",
    "    "
   ]
  },
  {
   "cell_type": "code",
   "execution_count": null,
   "id": "7e6aff99",
   "metadata": {},
   "outputs": [],
   "source": []
  }
 ],
 "metadata": {
  "kernelspec": {
   "display_name": "Python 3 (ipykernel)",
   "language": "python",
   "name": "python3"
  },
  "language_info": {
   "codemirror_mode": {
    "name": "ipython",
    "version": 3
   },
   "file_extension": ".py",
   "mimetype": "text/x-python",
   "name": "python",
   "nbconvert_exporter": "python",
   "pygments_lexer": "ipython3",
   "version": "3.7.11"
  }
 },
 "nbformat": 4,
 "nbformat_minor": 5
}
