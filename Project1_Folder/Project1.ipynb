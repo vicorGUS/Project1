{
 "cells": [
  {
   "cell_type": "code",
   "execution_count": 1,
   "id": "40a6fff0",
   "metadata": {},
   "outputs": [],
   "source": [
    "import numpy as np\n",
    "import emcee\n",
    "from scipy.optimize import minimize, least_squares, leastsq\n",
    "from scipy.stats import norm\n",
    "import matplotlib.pyplot as plt\n",
    "import corner"
   ]
  },
  {
   "cell_type": "code",
   "execution_count": 2,
   "id": "80b74166",
   "metadata": {},
   "outputs": [],
   "source": [
    "data = np.genfromtxt('D1_c_5.dat')\n",
    "m=data.shape[0]\n",
    "x=np.zeros(m)\n",
    "y=np.zeros(m)\n",
    "sigma=np.zeros(m)\n",
    "for i in range(data.shape[0]):\n",
    "    x[i]=data[i][0]\n",
    "    y[i]=data[i][1]\n",
    "    sigma[i] = data[i][2]"
   ]
  },
  {
   "cell_type": "code",
   "execution_count": 3,
   "id": "863b3a3d",
   "metadata": {},
   "outputs": [],
   "source": [
    "def log_prior_uni(a):\n",
    "    if -100 < a.all() < 100:\n",
    "        return 0.0\n",
    "    return -np.inf\n",
    "    \n",
    "def log_prior_gauss(a, k, abar=5):\n",
    "    gauss = ((1 / (np.sqrt(2 * np.pi)*abar)) ** (k+1)) * np.exp(- a**2 / (2 * abar**2))\n",
    "    return np.sum(np.log(gauss))\n",
    "\n",
    "def g(a, x, k):\n",
    "    g = 0\n",
    "    for i in range(k+1):\n",
    "        g += a[i] * x**i\n",
    "    return g\n",
    "\n",
    "def chi_squared(a, x, y, sigma):\n",
    "    return np.sum(((y - g(a, x, k)) / sigma) ** 2)\n",
    "\n",
    "def log_likelihood(a, x, y, sigma):\n",
    "    return np.sum(np.log(1 / ( np.sqrt(2 * np.pi) * sigma))) - chi_squared(a, x, y, sigma) / 2\n",
    "    \n",
    "def log_posterior_uni(a, x, y, sigma):\n",
    "    lp_uni = log_prior_uni(a)\n",
    "    if not np.isfinite(lp_uni):\n",
    "        return -np.inf\n",
    "    return lp_uni + log_likelihood(a, x, y, sigma)\n",
    "\n",
    "def log_posterior_gauss(a, x, y, sigma):\n",
    "    lp_gauss = log_prior_gauss(a, k)\n",
    "    if not np.isfinite(lp_gauss):\n",
    "        return -np.inf\n",
    "    return lp_gauss + log_likelihood(a, x, y, sigma)"
   ]
  },
  {
   "cell_type": "code",
   "execution_count": 13,
   "id": "b4b35c65",
   "metadata": {},
   "outputs": [],
   "source": [
    "k = 4     # Order of Taylor_Polynomial, 3 for Corner plots, 4 for correct Fig 3&4\n",
    "\n",
    "# For Extra task, set k to kmax and exctract terms \"a_i\" up to order k\n",
    "\n",
    "fun = lambda *args: -log_likelihood(*args)\n",
    "initial = np.zeros(k+1) + 0.1 * np.random.randn(k+1)\n",
    "sol = minimize(fun, initial, args=(x, y, sigma))"
   ]
  },
  {
   "cell_type": "code",
   "execution_count": 5,
   "id": "a9a77d09",
   "metadata": {},
   "outputs": [
    {
     "name": "stderr",
     "output_type": "stream",
     "text": [
      "100%|███████████████████████████████████████████████████████████| 5000/5000 [00:14<00:00, 345.70it/s]\n"
     ]
    }
   ],
   "source": [
    "starting_guesses = [sol.x] + 1e-4 * np.random.randn(50, k+1)\n",
    "\n",
    "nwalkers, ndim = starting_guesses.shape\n",
    "\n",
    "sampler_uni = emcee.EnsembleSampler(nwalkers, ndim, log_posterior_uni, args=(x, y, sigma))\n",
    "\n",
    "sampler_uni.run_mcmc(starting_guesses, 5000, progress=True);"
   ]
  },
  {
   "cell_type": "code",
   "execution_count": 85,
   "id": "8d29a00e",
   "metadata": {},
   "outputs": [
    {
     "name": "stderr",
     "output_type": "stream",
     "text": [
      "100%|███████████████████████████████████████████████████████████| 5000/5000 [00:17<00:00, 279.91it/s]\n"
     ]
    }
   ],
   "source": [
    "starting_guesses = np.ones(k+1) + 1e-4 * np.random.randn(50, k+1)\n",
    "\n",
    "nwalkers, ndim = starting_guesses.shape\n",
    "\n",
    "sampler_gauss = emcee.EnsembleSampler(nwalkers, ndim, log_posterior_gauss, args=(x, y, sigma))\n",
    "\n",
    "sampler_gauss.run_mcmc(starting_guesses, 5000, progress=True);"
   ]
  },
  {
   "cell_type": "code",
   "execution_count": 84,
   "id": "2cd28839",
   "metadata": {},
   "outputs": [],
   "source": [
    "flat_samples_uni = sampler_uni.get_chain(discard=1000, thin=15, flat=True)\n",
    "\n",
    "labels = [r\"$a_0$\", r\"$a_1$\", r\"$a_2$\", r\"$a_3$\"]\n",
    "if k==3:\n",
    "    fig = corner.corner(flat_samples_uni, labels=labels, titles=labels, show_titles=True);"
   ]
  },
  {
   "cell_type": "code",
   "execution_count": 83,
   "id": "cf5d6a91",
   "metadata": {},
   "outputs": [],
   "source": [
    "flat_samples_gauss = sampler_gauss.get_chain(discard=1000, thin=15, flat=True)\n",
    "\n",
    "labels = [r\"$a_0$\", r\"$a_1$\", r\"$a_2$\", r\"$a_3$\"]\n",
    "if k==3:    \n",
    "    fig = corner.corner(flat_samples_gauss, labels=labels, titles=labels, show_titles=True);"
   ]
  },
  {
   "cell_type": "code",
   "execution_count": 131,
   "id": "1ce339c4",
   "metadata": {},
   "outputs": [
    {
     "data": {
      "image/png": "[encoded data removed]",
      "text/plain": [
       "<Figure size 576x576 with 1 Axes>"
      ]
     },
     "metadata": {
      "needs_background": "light"
     },
     "output_type": "display_data"
    }
   ],
   "source": [
    "fig = plt.figure(figsize=(8, 8))\n",
    "plt.errorbar(x, y, (sigma), fmt=\"o\", label=\"Data\", ecolor=\"black\", capsize=3.0, mfc='aqua')\n",
    "plt.xlim(0.0, 0.4)\n",
    "plt.xticks(np.linspace(0.0, 0.4, 5))\n",
    "plt.xlabel(r\"$x$\")\n",
    "plt.ylim(0.0, 1.7)\n",
    "plt.yticks(np.linspace(0.0, 1.6, 5))\n",
    "plt.ylabel(r\"$g(x)$\")\n",
    "x_range = np.linspace(0.0, 0.4, 100)\n",
    "func = ((1 / 2) + np.tan(np.pi/2 * x_range))**2\n",
    "plt.plot(x_range, func, label=r\"True function\", color=\"b\", lw=2.5)\n",
    "a = sol.x\n",
    "apprx = g(a, x_range, k)\n",
    "plt.fill_between(x_range, apprx - abs(func-apprx), apprx + abs(apprx-func), alpha=0.5)\n",
    "plt.plot(x_range, apprx, 'r--', label=f\"$k={k}, k_\"r\"{max}=\"f\"{k}$\", lw=2.5)\n",
    "plt.legend(loc='upper left');"
   ]
  },
  {
   "cell_type": "code",
   "execution_count": 121,
   "id": "a99663c6",
   "metadata": {},
   "outputs": [
    {
     "data": {
      "image/png": "[encoded data removed]",
      "text/plain": [
       "<Figure size 576x576 with 1 Axes>"
      ]
     },
     "metadata": {
      "needs_background": "light"
     },
     "output_type": "display_data"
    }
   ],
   "source": [
    "fig = plt.figure(figsize=(8, 8))\n",
    "plt.errorbar(x, y, (sigma), fmt=\"o\", label=\"Data\", ecolor=\"black\", capsize=3.0, mfc='aqua')\n",
    "plt.xlim(0.0, 0.4)\n",
    "plt.xticks(np.linspace(0.0, 0.4, 5))\n",
    "plt.xlabel(r\"$x$\")\n",
    "plt.ylim(0.0, 1.7)\n",
    "plt.yticks(np.linspace(0.0, 1.6, 5))\n",
    "plt.ylabel(r\"$g(x)$\")\n",
    "x_range = np.linspace(0.0, 0.4, 100)\n",
    "func = ((1 / 2) + np.tan(np.pi/2 * x_range))**2\n",
    "plt.plot(x_range, func, label=r\"True function\", color=\"b\", lw=2.5)\n",
    "a = np.zeros([k+1, 1])\n",
    "for i in range(flat_samples_gauss.shape[1]):\n",
    "    a[i] = flat_samples_gauss[:,i].mean()\n",
    "apprx = g(a, x_range, k)\n",
    "plt.fill_between(x_range, apprx -abs(func-apprx), apprx+ abs(apprx-func), alpha=0.5)\n",
    "plt.plot(x_range, apprx, 'r--', label=f\"$k={k}, k_\"r\"{max}=\"f\"{k}$\", lw=2.5)\n",
    "plt.legend(loc='upper left');\n",
    "plt.show()"
   ]
  },
  {
   "cell_type": "code",
   "execution_count": 11,
   "id": "835cb3ac",
   "metadata": {},
   "outputs": [
    {
     "name": "stdout",
     "output_type": "stream",
     "text": [
      "kmax = 0\n",
      "a0: 0.48 +- 0.01\n",
      "------------------------------------------------\n",
      "kmax = 1\n",
      "a0: 0.2 +- 0.01\n",
      "a1: 2.55 +- 0.11\n",
      "------------------------------------------------\n",
      "kmax = 2\n",
      "a0: 0.25 +- 0.02\n",
      "a1: 1.56 +- 0.4\n",
      "a2: 3.35 +- 1.28\n",
      "------------------------------------------------\n",
      "kmax = 3\n",
      "a0: 0.27 +- 0.04\n",
      "a1: 1.0 +- 1.03\n",
      "a2: 7.74 +- 7.73\n",
      "------------------------------------------------\n",
      "kmax = 4\n",
      "a0: 0.32 +- 0.07\n",
      "a1: -1.33 +- 2.82\n",
      "a2: 38.04 +- 34.43\n",
      "------------------------------------------------\n",
      "kmax = 5\n",
      "a0: 0.51 +- 0.17\n",
      "a1: -11.64 +- 9.29\n",
      "a2: 221.51 +- 163.77\n",
      "------------------------------------------------\n",
      "kmax = 6\n",
      "a0: 0.54 +- 0.28\n",
      "a1: -13.61 +- 16.1\n",
      "a2: 263.3 +- 308.83\n",
      "------------------------------------------------\n"
     ]
    }
   ],
   "source": [
    "for k in range(0,7):\n",
    "    starting_guesses = np.ones(k+1) + 1e-4 * np.random.randn(50, k+1)\n",
    "    nwalkers, ndim = starting_guesses.shape\n",
    "    sampler_uni = emcee.EnsembleSampler(nwalkers, ndim, log_posterior_uni, args=(x, y, sigma))\n",
    "    sampler_uni.run_mcmc(starting_guesses, 1000)\n",
    "    flat_samples_uni = sampler_uni.get_chain(discard=100, thin=15, flat=True)\n",
    "    print(f\"kmax = {k}\")\n",
    "    for i in range(k+1):\n",
    "        a = np.round(flat_samples_uni[:,i].mean(), 2)\n",
    "        var = np.round(((np.percentile(flat_samples_uni[:,i], [84])[0]  - a) + (a - np.percentile(flat_samples_uni[:,i], [16]))[0]) / 2, 2)\n",
    "        if i <=2:\n",
    "            print(f\"a{i}:\",a, \"+-\", var)\n",
    "    print('------------------------------------------------')"
   ]
  },
  {
   "cell_type": "code",
   "execution_count": 12,
   "id": "23b7698b",
   "metadata": {},
   "outputs": [
    {
     "name": "stdout",
     "output_type": "stream",
     "text": [
      "kmax = 0\n",
      "a0: 0.48 +- 0.0\n",
      "------------------------------------------------\n",
      "kmax = 1\n",
      "a0: 0.2 +- 0.02\n",
      "a1: 2.55 +- 0.1\n",
      "------------------------------------------------\n",
      "kmax = 2\n",
      "a0: 0.25 +- 0.02\n",
      "a1: 1.63 +- 0.38\n",
      "a2: 3.14 +- 1.22\n",
      "------------------------------------------------\n",
      "kmax = 3\n",
      "a0: 0.25 +- 0.02\n",
      "a1: 1.64 +- 0.45\n",
      "a2: 2.92 +- 2.29\n",
      "------------------------------------------------\n",
      "kmax = 4\n",
      "a0: 0.25 +- 0.02\n",
      "a1: 1.64 +- 0.45\n",
      "a2: 2.97 +- 2.38\n",
      "------------------------------------------------\n",
      "kmax = 5\n",
      "a0: 0.25 +- 0.02\n",
      "a1: 1.66 +- 0.46\n",
      "a2: 2.85 +- 2.36\n",
      "------------------------------------------------\n",
      "kmax = 6\n",
      "a0: 0.25 +- 0.02\n",
      "a1: 1.62 +- 0.45\n",
      "a2: 3.19 +- 2.3\n",
      "------------------------------------------------\n"
     ]
    }
   ],
   "source": [
    "for k in range(0,7):\n",
    "    starting_guesses = np.ones(k+1) + 1e-4 * np.random.randn(50, k+1)\n",
    "    nwalkers, ndim = starting_guesses.shape\n",
    "    sampler_gauss = emcee.EnsembleSampler(nwalkers, ndim, log_posterior_gauss, args=(x, y, sigma))\n",
    "    sampler_gauss.run_mcmc(starting_guesses, 1000)\n",
    "    flat_samples_gauss = sampler_gauss.get_chain(discard=100, thin=15, flat=True)\n",
    "    print(f\"kmax = {k}\")\n",
    "    for i in range(k+1):\n",
    "        a = np.round(flat_samples_gauss[:,i].mean(), 2)\n",
    "        var = np.round(np.percentile(flat_samples_gauss[:,i], [84])  - a, 2)[0]\n",
    "        if i <=2:\n",
    "            print(f\"a{i}:\",a, \"+-\", var)\n",
    "    print('------------------------------------------------')"
   ]
  },
  {
   "cell_type": "code",
   "execution_count": null,
   "id": "2762a398",
   "metadata": {},
   "outputs": [],
   "source": []
  }
 ],
 "metadata": {
  "kernelspec": {
   "display_name": "Python 3 (ipykernel)",
   "language": "python",
   "name": "python3"
  },
  "language_info": {
   "codemirror_mode": {
    "name": "ipython",
    "version": 3
   },
   "file_extension": ".py",
   "mimetype": "text/x-python",
   "name": "python",
   "nbconvert_exporter": "python",
   "pygments_lexer": "ipython3",
   "version": "3.7.11"
  }
 },
 "nbformat": 4,
 "nbformat_minor": 5
}
