{
 "cells": [
  {
   "cell_type": "code",
   "execution_count": 67,
   "id": "40a6fff0",
   "metadata": {},
   "outputs": [],
   "source": [
    "import numpy as np\n",
    "import emcee\n",
    "import matplotlib.pyplot as plt"
   ]
  },
  {
   "cell_type": "code",
   "execution_count": 102,
   "id": "80b74166",
   "metadata": {},
   "outputs": [],
   "source": [
    "data = np.genfromtxt('D1_c_5.dat')\n",
    "m=data.shape[0]\n",
    "x=np.zeros(m)\n",
    "y=np.zeros(m)\n",
    "sigma=np.zeros(m)\n",
    "\n",
    "for i in range(data.shape[0]):\n",
    "    x[i]=data[i][0]\n",
    "    y[i]=data[i][1]\n",
    "    sigma[i] = data[i][0]"
   ]
  },
  {
   "cell_type": "code",
   "execution_count": 97,
   "id": "863b3a3d",
   "metadata": {},
   "outputs": [],
   "source": [
    "min_sigma=0\n",
    "max_sigma=100\n",
    "\n",
    "def log_prior_uni(sigma):\n",
    "    log_prior = np.ones(len(sigma))\n",
    "    for i in range(len(sigma)):\n",
    "        if sigma[i] > min_sigma and sigma[i] < max_sigma:\n",
    "            log_prior[i] = np.log(1/len(sigma))\n",
    "        else:\n",
    "            log_prior[i] = -np.inf\n",
    "    return log_prior\n",
    "    \n",
    "def log_prior_gauss(abar, a): \n",
    "    gauss = np.log(1/(np.sqrt(2*np.pi)*abar))+(-a^2/(2*abar^2))\n",
    "    return gauss\n",
    "\n",
    "def g(a, x, k):\n",
    "    g = 0\n",
    "    for i in range(k):\n",
    "        g += a(i)*x**i\n",
    "    return g\n",
    "\n",
    "def chi_squared(x, y, sigma):\n",
    "    chi_squared = 0\n",
    "    for i in range(m):\n",
    "        chi_squared += ((y[i] - g(a, x[i], k))/sigma[i])**2\n",
    "\n",
    "def log_likelihood(sigma, chi_squared):\n",
    "    likelihood = 1\n",
    "    for j in range(m):\n",
    "        likelihood += np.log(1/(np.sqrt(2*np.pi)*sigma[j])) - chi_squared /2\n",
    "    \n",
    "def log_posterior_uni(sigma):\n",
    "    return log_prior_uni(sigma) + log_likelihood(theta, X)\n",
    "\n",
    "def log_posterior_gauss(abar, a, sigma, chi_squared):\n",
    "    return log_prior_gauss(abar, a) + log_likelihood(sigma, chi_squared)\n"
   ]
  },
  {
   "cell_type": "code",
   "execution_count": 86,
   "id": "a9a77d09",
   "metadata": {},
   "outputs": [
    {
     "name": "stdout",
     "output_type": "stream",
     "text": [
      "MCMC sampling using emcee (affine-invariant ensamble sampler) with 50 walkers\n"
     ]
    },
    {
     "ename": "NameError",
     "evalue": "name 'D' is not defined",
     "output_type": "error",
     "traceback": [
      "\u001b[0;31m---------------------------------------------------------------------------\u001b[0m",
      "\u001b[0;31mNameError\u001b[0m                                 Traceback (most recent call last)",
      "\u001b[0;32m/var/folders/4d/62y40bvj02n10swnwvnfhr840000gn/T/ipykernel_48627/4078692273.py\u001b[0m in \u001b[0;36m<module>\u001b[0;34m\u001b[0m\n\u001b[1;32m      8\u001b[0m \u001b[0;34m\u001b[0m\u001b[0m\n\u001b[1;32m      9\u001b[0m \u001b[0mprint\u001b[0m\u001b[0;34m(\u001b[0m\u001b[0;34m\"MCMC sampling using emcee (affine-invariant ensamble sampler) with {0} walkers\"\u001b[0m\u001b[0;34m.\u001b[0m\u001b[0mformat\u001b[0m\u001b[0;34m(\u001b[0m\u001b[0mnwalkers\u001b[0m\u001b[0;34m)\u001b[0m\u001b[0;34m)\u001b[0m\u001b[0;34m\u001b[0m\u001b[0;34m\u001b[0m\u001b[0m\n\u001b[0;32m---> 10\u001b[0;31m \u001b[0msampler\u001b[0m \u001b[0;34m=\u001b[0m \u001b[0memcee\u001b[0m\u001b[0;34m.\u001b[0m\u001b[0mEnsembleSampler\u001b[0m\u001b[0;34m(\u001b[0m\u001b[0mnwalkers\u001b[0m\u001b[0;34m,\u001b[0m \u001b[0mndim\u001b[0m\u001b[0;34m,\u001b[0m \u001b[0mlog_posterior_uni\u001b[0m\u001b[0;34m,\u001b[0m \u001b[0margs\u001b[0m\u001b[0;34m=\u001b[0m\u001b[0;34m[\u001b[0m\u001b[0mD\u001b[0m\u001b[0;34m]\u001b[0m\u001b[0;34m)\u001b[0m\u001b[0;34m\u001b[0m\u001b[0;34m\u001b[0m\u001b[0m\n\u001b[0m\u001b[1;32m     11\u001b[0m \u001b[0;34m\u001b[0m\u001b[0m\n\u001b[1;32m     12\u001b[0m \u001b[0;31m# \"burn-in\" period; save final positions and then reset\u001b[0m\u001b[0;34m\u001b[0m\u001b[0;34m\u001b[0m\u001b[0;34m\u001b[0m\u001b[0m\n",
      "\u001b[0;31mNameError\u001b[0m: name 'D' is not defined"
     ]
    }
   ],
   "source": [
    "ndim = 1\n",
    "nwalkers = 50  # number of MCMC walkers\n",
    "nburn = 1000  # \"burn-in\" period to let chains stabilize\n",
    "nsteps = 1000  # number of MCMC steps to take\n",
    "\n",
    "# we'll start at random locations within the prior volume\n",
    "starting_guesses = min_sigma + max_sigma * np.random.rand(nwalkers,ndim)\n",
    "\n",
    "print(\"MCMC sampling using emcee (affine-invariant ensamble sampler) with {0} walkers\".format(nwalkers))\n",
    "sampler = emcee.EnsembleSampler(nwalkers, ndim, log_posterior_uni, args=[D])\n",
    "\n",
    "# \"burn-in\" period; save final positions and then reset\n",
    "pos, prob, state = sampler.run_mcmc(starting_guesses, nburn)\n",
    "sampler.reset()\n",
    "\n",
    "# sampling period\n",
    "sampler.run_mcmc(pos, nsteps)\n",
    "\n",
    "print(\"Mean acceptance fraction: {0:.3f} (in total {1} steps)\"\n",
    "                .format(np.mean(sampler.acceptance_fraction),nwalkers*nsteps))\n",
    "\n",
    "# discard burn-in points and flatten the walkers; the shape of samples is (nwalkers*nsteps, ndim)\n",
    "samples = sampler.chain.reshape((-1, ndim))"
   ]
  },
  {
   "cell_type": "code",
   "execution_count": 101,
   "id": "ee8dca72",
   "metadata": {},
   "outputs": [
    {
     "data": {
      "image/png": "[encoded data removed]",
      "text/plain": [
       "<Figure size 432x288 with 1 Axes>"
      ]
     },
     "metadata": {
      "needs_background": "light"
     },
     "output_type": "display_data"
    }
   ],
   "source": [
    "sigma=np.linspace(0,100,101)\n",
    "plt.plot(sigma, log_prior_uni(sigma));"
   ]
  }
 ],
 "metadata": {
  "kernelspec": {
   "display_name": "Python 3 (ipykernel)",
   "language": "python",
   "name": "python3"
  },
  "language_info": {
   "codemirror_mode": {
    "name": "ipython",
    "version": 3
   },
   "file_extension": ".py",
   "mimetype": "text/x-python",
   "name": "python",
   "nbconvert_exporter": "python",
   "pygments_lexer": "ipython3",
   "version": "3.7.10"
  }
 },
 "nbformat": 4,
 "nbformat_minor": 5
}
